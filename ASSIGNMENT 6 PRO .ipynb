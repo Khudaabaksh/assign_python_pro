{
 "cells": [
  {
   "cell_type": "raw",
   "id": "463cede1",
   "metadata": {},
   "source": [
    "1. Write a Python Program to Display Fibonacci Sequence Using Recursion?"
   ]
  },
  {
   "cell_type": "raw",
   "id": "bb5c827b",
   "metadata": {},
   "source": [
    "--------------------------------ROUGH------------------------------------\n",
    "NON RECURSIVE\n",
    "a=1\n",
    "b=2\n",
    "sum=0\n",
    "sum=a+b\n",
    "sum,a=a,b\n",
    "\n",
    "RECURSIVE\n",
    "fib(n)=fib(n-1)+fib(n-2): recusrive statement\n",
    "fib(1)=0 and fib(2)=1   : boundary statement\n",
    "--------------------------------ROUGH------------------------------------"
   ]
  },
  {
   "cell_type": "code",
   "execution_count": 8,
   "id": "6c49612f",
   "metadata": {},
   "outputs": [
    {
     "name": "stdout",
     "output_type": "stream",
     "text": [
      "10\n",
      "fibonacci sequence first 10 elemnet\n",
      "0\n",
      "1\n",
      "1\n",
      "2\n",
      "3\n",
      "5\n",
      "8\n",
      "13\n",
      "21\n",
      "34\n"
     ]
    }
   ],
   "source": [
    "def fib(n):\n",
    "    return n if n<=1 else fib(n-1)+fib(n-2)\n",
    "num=int(input())\n",
    "print(\"fibonacci sequence first {} elemnet\".format(num))\n",
    "for i in range(num):\n",
    "    print(fib(i))"
   ]
  },
  {
   "cell_type": "raw",
   "id": "1c8737e4",
   "metadata": {},
   "source": [
    "2. Write a Python Program to Find Factorial of Number Using Recursion?"
   ]
  },
  {
   "cell_type": "raw",
   "id": "adb4fb98",
   "metadata": {},
   "source": [
    "--------------------------------ROUGH------------------------------------\n",
    "NON RECURSIVE\n",
    "p=1\n",
    "for i in range(n+1):\n",
    "    p=p*i\n",
    "\n",
    "RECURSIVE\n",
    "fac(n)=n*fac(n-1): recusrive statement\n",
    "fac(1)=0           : boundary statement\n",
    "--------------------------------ROUGH------------------------------------"
   ]
  },
  {
   "cell_type": "code",
   "execution_count": 5,
   "id": "124090a0",
   "metadata": {},
   "outputs": [
    {
     "name": "stdout",
     "output_type": "stream",
     "text": [
      "5\n",
      "factorial of 5 is 120\n"
     ]
    }
   ],
   "source": [
    "def fac(n):\n",
    "    return n if n==1 else (n*fac(n-1))\n",
    "num=int(input())\n",
    "print(\"factorial of {} is {}\".format(num,fac(num)))  "
   ]
  },
  {
   "cell_type": "raw",
   "id": "360ccd80",
   "metadata": {},
   "source": [
    "3. Write a Python Program to calculate your Body Mass Index?"
   ]
  },
  {
   "cell_type": "code",
   "execution_count": 13,
   "id": "3bafaba3",
   "metadata": {},
   "outputs": [
    {
     "name": "stdout",
     "output_type": "stream",
     "text": [
      "Enter height in meters\n",
      "1.62\n",
      "Enter weight in kilograms\n",
      "50\n",
      "bmi is 19.05197378448407 which means NORMAL\n"
     ]
    }
   ],
   "source": [
    "print(\"Enter height in meters\")\n",
    "height=float(input())\n",
    "print(\"Enter weight in kilograms\")\n",
    "weight=float(input())\n",
    "def bmi(h,w):\n",
    "    return (w/(h**2))\n",
    "result=bmi(height,weight)\n",
    "if result<18.5:\n",
    "    print(\"bmi is {} which means UNDERWEIGHT\".format(result) )\n",
    "elif result<24.9:\n",
    "    print(\"bmi is {} which means NORMAL\".format(result) )\n",
    "elif result<29.9:\n",
    "    print(\"bmi is {} which means OVERWEIGHT\".format(result) )\n",
    "elif result<=40:\n",
    "    print(\"bmi is {} which means OBESE\".format(result) )\n",
    "else:\n",
    "    print(\"INVALID\")"
   ]
  },
  {
   "cell_type": "raw",
   "id": "ba6e3967",
   "metadata": {},
   "source": [
    "4. Write a Python Program to calculate the natural logarithm of any number?"
   ]
  },
  {
   "cell_type": "code",
   "execution_count": 16,
   "id": "b627470a",
   "metadata": {},
   "outputs": [
    {
     "name": "stdout",
     "output_type": "stream",
     "text": [
      "4\n"
     ]
    },
    {
     "data": {
      "text/plain": [
       "2.0"
      ]
     },
     "execution_count": 16,
     "metadata": {},
     "output_type": "execute_result"
    }
   ],
   "source": [
    "import math\n",
    "num=int(input())\n",
    "math.log2(num)"
   ]
  },
  {
   "cell_type": "raw",
   "id": "f9fb0b4d",
   "metadata": {},
   "source": [
    "5. Write a Python Program for cube sum of first n natural numbers?"
   ]
  },
  {
   "cell_type": "code",
   "execution_count": 24,
   "id": "cc4fa059",
   "metadata": {},
   "outputs": [
    {
     "name": "stdout",
     "output_type": "stream",
     "text": [
      "3\n",
      "cube sum of first 3.0 is 36.0\n"
     ]
    }
   ],
   "source": [
    "def cubeSum(n):\n",
    "    return ((n*(n+1))/2)**2\n",
    "num=float(input())\n",
    "res=cubeSum(num)\n",
    "print(\"cube sum of first {} is {}\".format(num,res) )"
   ]
  }
 ],
 "metadata": {
  "kernelspec": {
   "display_name": "Python 3 (ipykernel)",
   "language": "python",
   "name": "python3"
  },
  "language_info": {
   "codemirror_mode": {
    "name": "ipython",
    "version": 3
   },
   "file_extension": ".py",
   "mimetype": "text/x-python",
   "name": "python",
   "nbconvert_exporter": "python",
   "pygments_lexer": "ipython3",
   "version": "3.9.7"
  }
 },
 "nbformat": 4,
 "nbformat_minor": 5
}
