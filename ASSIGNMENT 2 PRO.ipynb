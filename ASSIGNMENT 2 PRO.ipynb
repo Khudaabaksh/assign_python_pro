{
 "cells": [
  {
   "cell_type": "raw",
   "id": "7f75e7ac",
   "metadata": {},
   "source": [
    "1. Write a Python program to convert kilometers to miles?"
   ]
  },
  {
   "cell_type": "code",
   "execution_count": 2,
   "id": "1c1124bf",
   "metadata": {},
   "outputs": [
    {
     "name": "stdout",
     "output_type": "stream",
     "text": [
      "give input in kilometers\n",
      "5.34\n",
      "In meters = 5340.0\n"
     ]
    }
   ],
   "source": [
    "print(\"give input in kilometers\")\n",
    "d=float(input())\n",
    "print(\"In meters =\", d*1000)"
   ]
  },
  {
   "cell_type": "raw",
   "id": "1c9bc539",
   "metadata": {},
   "source": [
    "2. Write a Python program to convert Celsius to Fahrenheit?"
   ]
  },
  {
   "cell_type": "code",
   "execution_count": 4,
   "id": "5575837d",
   "metadata": {},
   "outputs": [
    {
     "name": "stdout",
     "output_type": "stream",
     "text": [
      "give input in Celsius\n",
      "30.6\n",
      "In Fahrenheit = 87.08000000000001\n"
     ]
    }
   ],
   "source": [
    "print(\"give input in Celsius\")\n",
    "c=float(input())\n",
    "f=(c * 9/5) + 32 \n",
    "print(\"In Fahrenheit =\", f)"
   ]
  },
  {
   "cell_type": "raw",
   "id": "5588c0c7",
   "metadata": {},
   "source": [
    "3. Write a Python program to display calendar?"
   ]
  },
  {
   "cell_type": "code",
   "execution_count": 6,
   "id": "68bf7b78",
   "metadata": {},
   "outputs": [
    {
     "name": "stdout",
     "output_type": "stream",
     "text": [
      "year which you want\n",
      "2000\n",
      "month of 2000 which you want\n",
      "07\n",
      "     July 2000\n",
      "Mo Tu We Th Fr Sa Su\n",
      "                1  2\n",
      " 3  4  5  6  7  8  9\n",
      "10 11 12 13 14 15 16\n",
      "17 18 19 20 21 22 23\n",
      "24 25 26 27 28 29 30\n",
      "31\n",
      "\n"
     ]
    }
   ],
   "source": [
    "import calendar\n",
    "print(\"year which you want\")\n",
    "yy =int(input())\n",
    "print(\"month of {} which you want\".format(yy))\n",
    "mm =int(input())\n",
    "print(calendar.month(yy, mm))"
   ]
  },
  {
   "cell_type": "raw",
   "id": "5f9c0aaa",
   "metadata": {},
   "source": [
    "4. Write a Python program to solve quadratic equation?"
   ]
  },
  {
   "cell_type": "code",
   "execution_count": 7,
   "id": "5ad69826",
   "metadata": {},
   "outputs": [
    {
     "name": "stdout",
     "output_type": "stream",
     "text": [
      "5\n",
      "4\n",
      "3\n",
      "The solution are (-0.4-0.6633249580710799j) and (-0.4+0.6633249580710799j)\n"
     ]
    }
   ],
   "source": [
    "import cmath\n",
    "a = int(input())\n",
    "b = int(input())\n",
    "c = int(input())\n",
    "# calculate the discriminant\n",
    "d = (b**2) - (4*a*c)\n",
    "# find two solutions\n",
    "sol1 = (-b-cmath.sqrt(d))/(2*a)\n",
    "sol2 = (-b+cmath.sqrt(d))/(2*a)\n",
    "print('The solution are {0} and {1}'.format(sol1,sol2))"
   ]
  },
  {
   "cell_type": "raw",
   "id": "adfa8411",
   "metadata": {},
   "source": [
    "5. Write a Python program to swap two variables without temp variable?"
   ]
  },
  {
   "cell_type": "code",
   "execution_count": 9,
   "id": "d30ecc30",
   "metadata": {},
   "outputs": [
    {
     "name": "stdout",
     "output_type": "stream",
     "text": [
      "before swapping\n",
      "10\n",
      "20\n",
      "10 =a\n",
      "20 =b\n",
      "after swapping\n",
      "20 =a\n",
      "10 =b\n"
     ]
    }
   ],
   "source": [
    "print(\"before swapping\")\n",
    "a=int(input())\n",
    "b=int(input())\n",
    "print(a,\"=a\")\n",
    "print(b,\"=b\")\n",
    "print(\"after swapping\")\n",
    "a,b=b,a\n",
    "print(a,\"=a\")\n",
    "print(b,\"=b\")"
   ]
  },
  {
   "cell_type": "code",
   "execution_count": null,
   "id": "c3a303e4",
   "metadata": {},
   "outputs": [],
   "source": []
  }
 ],
 "metadata": {
  "kernelspec": {
   "display_name": "Python 3 (ipykernel)",
   "language": "python",
   "name": "python3"
  },
  "language_info": {
   "codemirror_mode": {
    "name": "ipython",
    "version": 3
   },
   "file_extension": ".py",
   "mimetype": "text/x-python",
   "name": "python",
   "nbconvert_exporter": "python",
   "pygments_lexer": "ipython3",
   "version": "3.9.7"
  }
 },
 "nbformat": 4,
 "nbformat_minor": 5
}
